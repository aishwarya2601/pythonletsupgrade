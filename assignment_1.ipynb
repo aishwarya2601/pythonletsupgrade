{
  "nbformat": 4,
  "nbformat_minor": 0,
  "metadata": {
    "colab": {
      "name": "assignment 1",
      "provenance": [],
      "collapsed_sections": []
    },
    "kernelspec": {
      "name": "python3",
      "display_name": "Python 3"
    },
    "language_info": {
      "name": "python"
    }
  },
  "cells": [
    {
      "cell_type": "code",
      "metadata": {
        "colab": {
          "base_uri": "https://localhost:8080/"
        },
        "id": "4KjqcGiCYZ3W",
        "outputId": "dd7257a2-25f7-4736-b2f5-32fbfd73d68b"
      },
      "source": [
        "list=[int(i) for i in input('enter the values:').split()]\n",
        "print(list)\n",
        "list.sort()\n",
        "list.reverse()\n",
        "print(list)"
      ],
      "execution_count": 6,
      "outputs": [
        {
          "output_type": "stream",
          "text": [
            "enter the values:0 8 6 3 2 4 1 8 9\n",
            "[0, 8, 6, 3, 2, 4, 1, 8, 9]\n",
            "[9, 8, 8, 6, 4, 3, 2, 1, 0]\n"
          ],
          "name": "stdout"
        }
      ]
    }
  ]
}